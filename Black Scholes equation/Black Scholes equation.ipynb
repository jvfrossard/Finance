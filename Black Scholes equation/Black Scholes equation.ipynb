{
 "cells": [
  {
   "cell_type": "markdown",
   "metadata": {},
   "source": [
    "# A equação de Black-Scholes-Merton: soluções, gráficos e gregas"
   ]
  },
  {
   "cell_type": "markdown",
   "metadata": {},
   "source": [
    "## Uma discussão da mais famosa equação para precificação de opções, a equação de Black-Scholes-Merton. Mostraremos suas bases matemáticas, soluções, gráficos e as gregas, recorrendo sempre ao Python quando necessário."
   ]
  },
  {
   "cell_type": "markdown",
   "metadata": {},
   "source": [
    "### 1) A equação de Black-Scholes-Merton e sua solução"
   ]
  },
  {
   "cell_type": "markdown",
   "metadata": {},
   "source": [
    "A chamada equação de Black-Scholes-Merton equation é uma equação diferencial parcial para uma opção Europeia sobre uma ação. O artigo original que apresentou a equação pela primeira vez foi publicado por Black and Scholes [1] e essa é a razão pela qual a maioria das pessoas a chamam de equação de Black-Scholes. Mas apenas após as contribuições de Merton [2,3] foi que o modelo alcançou sua grande importância tanto teórica quanto prática entre economistas, matemáticos, pesquisadores, investidores e traders. É por essa razão que aqui nós a chamaremos de modelo de Black-Scholes-Merton (BSM, para simplificar) atribuindo crédito à grande contribuição de Robert Merton. \n",
    "\n",
    "Esse modelo é uma forma de se calcular o preço de opção Europeia sobre uma ação. Ele também pode ser estendido para se calcular futuros e swaps sobre outros tipos de ativos, embora o seu uso mais comum é para opções Europeias sobre ações. Basearemos a análise desse texto apenas no cálculo do preço justo por uma opção de compra Europeia sobre uma ação e mostraremos depois como aplicar esse mesmo modelo em outros contextos. Esse modelo possui várias hipóteses para sua validade e considerações sobre a ação subjacente à opção, bem como considerações sobre o mercado em si, quais sejam:\n",
    "\n",
    "a) Existe um ativo livre de risco que pode ser tomado a uma taxa de juros $r$ conhecida e constante ao longo do tempo.\n",
    "\n",
    "b) A opção é de tipo Europeia, só pode ser exercida na data de vencimento.\n",
    "\n",
    "c) O preço da ação segue um movimento browniano geométrico [4] (aqui não importa muito o que isso significa, deixo apenas como referência para leitura futura para o leitor mais interessado).\n",
    "\n",
    "d) A ação subjacente não paga dividendos.\n",
    "\n",
    "e) Não há custos de transação entre se comprar ou vender a ação ou a opção.\n",
    "\n",
    "f) É possível tomar empréstimo de qualquer quantia à taxa de juros do ativo livre de risco.\n",
    "\n",
    "g) É possível comprar ou vender qualquer quantidade da ação ou da opção.\n",
    "\n",
    "h) O mercado é eficiente, ou seja, não há oportunidades de arbitragem.\n",
    "\n",
    "Note que algumas hipóteses são bastante fortes porém, por hora, não iremos nos ater a elas. Futuramente nesse texto retornaremos a esse tema, dedicando algumas consideraçoes sobre as hipóteses, sua veracidade e aplicabilidade prática. Com estas hipóteses em mãos precisamos apenas de mais algumas definições para finalmente apresentar a equação. Seja \n",
    "$V$ o preço da opção, $S$ o preço da ação, $K$ o preço de exercício da opção, $r$ a taxa de juros livre de risco e $\\sigma^2$ a volatilidade da ação subjacente. A equação de Black-Scholes-Merton é a seguinte equação diferencial parcial (derivada explicitamente em [1]):\n",
    "\n",
    "\\begin{equation} \\frac{\\partial V}{\\partial t} + \\frac{1}{2}\\sigma^2 S^2\\frac{\\partial^2 V}{\\partial S^2 }  + rS\\frac{\\partial V}{\\partial S}  - rV = 0  \\label{eq:BSM} \\tag{1} \\end{equation}\n",
    "\n",
    "Não comentamos anteriormente, mas a volatilidade é uma medida do risco do ativo subjacente. Esse ativo pode ser qualquer tipo de security, mas como comentamos no início iremos considerar como sendo uma ação, por simplicidade. Veremos mais para frente como encontrar esse parâmetro futuramente.\n",
    "\n",
    "A equação BSM, \\ref{eq:BSM}, é uma equação diferencial parcial (EDP), que relaciona a função $V(S,t)$ e suas derivadas. A solução dessa EDP fornece a função $V(S,t)$ que calcula o preço de uma opção sob uma ação subjacente de preço $S$ no tempo $t$. A obtenção dessa solução está explicitamente escrita no artigo original de Black [1] e também pode ser encontrada no livro-texto de John Hull [4]. Por simplicidade não derivaremos a solução aqui, atendo-nos apenas ao seu resultado:\n",
    "\n",
    "\\begin{equation}  V_C(S,t) = SN(d_1) - Ke^{-r(T-t)}N(d_2), \\label{eq:solcall} \\tag{2}  \\end{equation}\n",
    "\n",
    "\\noindent chamamos de $V_C$ por se tratar do preço de uma opção de compra (call option) Europeia. Aqui, $T$ é o prazo de vencimento da opção e $t$ é o tempo atual para o qual queremos calcular o preço da opção de compra. $K$ é o preço de exercício, $S$ o preço da ação no tempo $t$. $N(x)$ representa a distribuição acumulada normal padrão, um recurso matemático que aparece na solução da equação BSM. Essa distribuição representa qual é a probabilidade de se encontrar uma quantidade $x$ para uma variável aleatória $X$ que segue uma distribuição normal padrão. Para nós importa que $N(d_1)$ e $N(d_2)$ são números e satisfazem $0 < N(d_1) < 1$ e $0 < N(d_2) < 1$. Por fim nos resta apresenta quem são os parâmetros $d_1$ e $d_2$:\n",
    "\n",
    "\\begin{equation} d_1 = \\frac{\\ln{\\left(\\frac{S}{K}\\right)} + \\left(r + \\frac{\\sigma^2}{2}\\right)\\left(T-t\\right)}{\\sigma\\sqrt{T-t}}, \\qquad d_2 = \\frac{\\ln{\\left(\\frac{S}{K}\\right)} + \\left(r - \\frac{\\sigma^2}{2}\\right)\\left(T-t\\right)}{\\sigma\\sqrt{T-t}}. \\label{eq:d1d2} \\tag{3} \\end{equation}\n",
    "\n",
    "Esses parâmetros $d_1$ e $d_2$ são escritos dessa forma apenas para simplificar a notação. A expressão para o preço de uma opção de venda (put option) sob uma ação é ligeiramente diferente é dado por:\n",
    "\n",
    "\\begin{equation} V_E(S,t) = Ke^{-r(T-t)}N(-d_2) - SN(-d_1), \\label{eq:solput} \\tag{4} \\end{equation}\n",
    "\n",
    "Portanto, com essas equações em mãos, temos um pequeno roteiro para calcular a solução da equação BSM para o preço de uma opção Europeia tanto de venda quanto de compra:\n",
    "\n",
    "I) Calcular os parâmetros $d_1$ e $d_2$ usando equação \\ref{eq:d1d2};\n",
    "\n",
    "II) Calcular N(d_1) e N(d_2) usando a distribuição acumulada normal padrão;\n",
    "\n",
    "III) Calcular o valor da opção de compra ou de venda usando equações \\ref{eq:solcall} ou \\ref{eq:solput}.\n",
    "\n",
    "A seguir apresentaremos um curto exemplo que calcula o preço da opção de compra explicitamente usando Python e suas bibliotecas."
   ]
  },
  {
   "cell_type": "code",
   "execution_count": 58,
   "metadata": {},
   "outputs": [
    {
     "name": "stdout",
     "output_type": "stream",
     "text": [
      "O preço de uma opção de compra de preço de exercício 16.21 com preço da ação subjacente 23.43 será: 7.256183106052575\n",
      "O preço de uma opção de venda de preço de exercício 16.21 com preço da ação subjacente 23.43 será: 5.768326232694597e-05\n"
     ]
    }
   ],
   "source": [
    "#Importar as bibliotecas que serão utilizadas\n",
    "import math\n",
    "from scipy.stats import norm\n",
    "\n",
    "#Calcular parâmetros d1 e d2 com os valores de S, K, r, sigma, T e t dados\n",
    "S = 23.43 #Preço da ação subjacente\n",
    "K = 16.21 #Preço de exercício\n",
    "r = 0.035 #Taxa de juros livre de risco\n",
    "sigma = 0.4  #Volatilidade da ação subjacente\n",
    "T = 17/251 #Dia de vencimento, contado como uma fração de dias úteis, são 251 dias úteis num ano\n",
    "t = 1/251 #Dia onde a opção será calculada\n",
    "\n",
    "d1 = (math.log(S/K) + (r+sigma**2/2)*(T-t))/(sigma*math.sqrt(T-t))\n",
    "d2 = (math.log(S/K) + (r-sigma**2/2)*(T-t))/(sigma*math.sqrt(T-t))\n",
    "\n",
    "Vc = S*norm.cdf(d1) - K*math.exp(-r*(T-t))*norm.cdf(d2)\n",
    "Ve = K*math.exp(-r*(T-t))*norm.cdf(-d2) - S*norm.cdf(-d1)\n",
    "\n",
    "print('O preço de uma opção de compra de preço de exercício', K, 'com preço da ação subjacente', S,'será:', Vc)\n",
    "print('O preço de uma opção de venda de preço de exercício', K, 'com preço da ação subjacente', S,'será:', Ve)"
   ]
  },
  {
   "cell_type": "markdown",
   "metadata": {},
   "source": [
    "## 2) Gráficos do preço da opção de compra"
   ]
  },
  {
   "cell_type": "markdown",
   "metadata": {},
   "source": []
  },
  {
   "cell_type": "markdown",
   "metadata": {},
   "source": [
    "## 3) Volatilidade implícita"
   ]
  },
  {
   "cell_type": "markdown",
   "metadata": {},
   "source": []
  },
  {
   "cell_type": "markdown",
   "metadata": {},
   "source": [
    "## 4) Opções mais complicadas, ações que pagam dividendos"
   ]
  },
  {
   "cell_type": "markdown",
   "metadata": {},
   "source": []
  },
  {
   "cell_type": "markdown",
   "metadata": {},
   "source": [
    "## 5) Conclusões"
   ]
  },
  {
   "cell_type": "markdown",
   "metadata": {},
   "source": []
  },
  {
   "cell_type": "markdown",
   "metadata": {},
   "source": [
    "## Bibliografia"
   ]
  },
  {
   "cell_type": "markdown",
   "metadata": {},
   "source": [
    "[1] BLACK, Fisher; SCHOLES, Myron. The pricing and corporate liabilities. Journal of Political Economy, v. 81, 1973.\n",
    "\n",
    "[2] MERTON, Robert C. On the pricing of corporate debt: The risk structure of interest rates. The Journal of finance, v. 29, n. 2, p. 449-470, 1974.\n",
    "\n",
    "[3] MERTON, Robert C. Theory of rational option pricing. The Bell Journal of economics and management science, p. 141-183, 1973.\n",
    "\n",
    "[4] HULL, John C. Opções, futuros e outros derivativos. Bookman Editora, 2016."
   ]
  }
 ],
 "metadata": {
  "kernelspec": {
   "display_name": "Python 3",
   "language": "python",
   "name": "python3"
  },
  "language_info": {
   "codemirror_mode": {
    "name": "ipython",
    "version": 3
   },
   "file_extension": ".py",
   "mimetype": "text/x-python",
   "name": "python",
   "nbconvert_exporter": "python",
   "pygments_lexer": "ipython3",
   "version": "3.9.0"
  }
 },
 "nbformat": 4,
 "nbformat_minor": 4
}
